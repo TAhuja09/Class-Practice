{
 "cells": [
  {
   "cell_type": "code",
   "execution_count": 3,
   "id": "43df2172-12bc-4b69-b889-38beee76736f",
   "metadata": {},
   "outputs": [],
   "source": [
    "a = 10"
   ]
  },
  {
   "cell_type": "code",
   "execution_count": 4,
   "id": "27ab715f-cbf7-4a3a-b8ae-181abc261589",
   "metadata": {},
   "outputs": [
    {
     "data": {
      "text/plain": [
       "10"
      ]
     },
     "execution_count": 4,
     "metadata": {},
     "output_type": "execute_result"
    }
   ],
   "source": [
    "a"
   ]
  },
  {
   "cell_type": "code",
   "execution_count": 5,
   "id": "0b01424c-d9e2-4eb7-9f9c-52ecd2ecc82b",
   "metadata": {},
   "outputs": [],
   "source": [
    "tej = 12345"
   ]
  },
  {
   "cell_type": "code",
   "execution_count": 6,
   "id": "5db8c4d2-3db2-4aee-9fb7-692964a003fd",
   "metadata": {},
   "outputs": [
    {
     "data": {
      "text/plain": [
       "12345"
      ]
     },
     "execution_count": 6,
     "metadata": {},
     "output_type": "execute_result"
    }
   ],
   "source": [
    "tej"
   ]
  },
  {
   "cell_type": "code",
   "execution_count": 7,
   "id": "36bc776d-2e43-47b9-ba13-c4d824518c70",
   "metadata": {},
   "outputs": [
    {
     "data": {
      "text/plain": [
       "int"
      ]
     },
     "execution_count": 7,
     "metadata": {},
     "output_type": "execute_result"
    }
   ],
   "source": [
    "type(tej)"
   ]
  },
  {
   "cell_type": "code",
   "execution_count": 8,
   "id": "9a92dba3-52ab-4d0a-b171-a88d8f67e3ec",
   "metadata": {},
   "outputs": [],
   "source": [
    "s = \"pwskills\""
   ]
  },
  {
   "cell_type": "code",
   "execution_count": 9,
   "id": "03fa74d8-fdfe-45e4-82b8-55174276999b",
   "metadata": {},
   "outputs": [
    {
     "data": {
      "text/plain": [
       "'pwskills'"
      ]
     },
     "execution_count": 9,
     "metadata": {},
     "output_type": "execute_result"
    }
   ],
   "source": [
    "s"
   ]
  },
  {
   "cell_type": "code",
   "execution_count": 10,
   "id": "4dd58dd0-49f3-477f-ac32-0b94acff61bc",
   "metadata": {},
   "outputs": [
    {
     "data": {
      "text/plain": [
       "str"
      ]
     },
     "execution_count": 10,
     "metadata": {},
     "output_type": "execute_result"
    }
   ],
   "source": [
    "type(s)"
   ]
  },
  {
   "cell_type": "code",
   "execution_count": 11,
   "id": "d3efb872-993a-40e2-9d93-040df08cebda",
   "metadata": {},
   "outputs": [],
   "source": [
    "s2 = 'this is my fist python lacture'"
   ]
  },
  {
   "cell_type": "code",
   "execution_count": 12,
   "id": "59a89959-fb39-4df9-9739-8cb6380cfedc",
   "metadata": {},
   "outputs": [
    {
     "data": {
      "text/plain": [
       "'this is my fist python lacture'"
      ]
     },
     "execution_count": 12,
     "metadata": {},
     "output_type": "execute_result"
    }
   ],
   "source": [
    "s2"
   ]
  },
  {
   "cell_type": "code",
   "execution_count": 13,
   "id": "2fd27a59-0f5a-4643-bd37-547f814ba39a",
   "metadata": {},
   "outputs": [
    {
     "data": {
      "text/plain": [
       "str"
      ]
     },
     "execution_count": 13,
     "metadata": {},
     "output_type": "execute_result"
    }
   ],
   "source": [
    "type(s2)"
   ]
  },
  {
   "cell_type": "code",
   "execution_count": 14,
   "id": "d8c7767c-8c2b-417e-be05-364587751d91",
   "metadata": {},
   "outputs": [],
   "source": [
    "f = 456.676"
   ]
  },
  {
   "cell_type": "code",
   "execution_count": 15,
   "id": "145e9a4b-798e-438b-a7b3-475fbb08f30c",
   "metadata": {},
   "outputs": [
    {
     "data": {
      "text/plain": [
       "float"
      ]
     },
     "execution_count": 15,
     "metadata": {},
     "output_type": "execute_result"
    }
   ],
   "source": [
    "type(f)"
   ]
  },
  {
   "cell_type": "code",
   "execution_count": 16,
   "id": "953161f3-2c68-4ba3-85bc-cddae97feb83",
   "metadata": {},
   "outputs": [
    {
     "data": {
      "text/plain": [
       "456.676"
      ]
     },
     "execution_count": 16,
     "metadata": {},
     "output_type": "execute_result"
    }
   ],
   "source": [
    "f"
   ]
  },
  {
   "cell_type": "code",
   "execution_count": 17,
   "id": "64c265b4-28f6-4e02-99bd-28f9fe605dc8",
   "metadata": {},
   "outputs": [],
   "source": [
    "c = 5 + 6j"
   ]
  },
  {
   "cell_type": "code",
   "execution_count": 18,
   "id": "8d4f8252-c8d1-4c2e-8e26-404e9378cd0c",
   "metadata": {},
   "outputs": [
    {
     "data": {
      "text/plain": [
       "complex"
      ]
     },
     "execution_count": 18,
     "metadata": {},
     "output_type": "execute_result"
    }
   ],
   "source": [
    "type(c)"
   ]
  },
  {
   "cell_type": "code",
   "execution_count": 19,
   "id": "57df82f4-91de-4790-a1e5-8497857aa5b7",
   "metadata": {},
   "outputs": [
    {
     "data": {
      "text/plain": [
       "(5+6j)"
      ]
     },
     "execution_count": 19,
     "metadata": {},
     "output_type": "execute_result"
    }
   ],
   "source": [
    "c"
   ]
  },
  {
   "cell_type": "code",
   "execution_count": 20,
   "id": "c7fc9eb9-28c4-4d65-8756-9c854b85fb23",
   "metadata": {},
   "outputs": [
    {
     "data": {
      "text/plain": [
       "5.0"
      ]
     },
     "execution_count": 20,
     "metadata": {},
     "output_type": "execute_result"
    }
   ],
   "source": [
    "c.real"
   ]
  },
  {
   "cell_type": "code",
   "execution_count": 22,
   "id": "a0e57905-a059-4414-a8f7-ec0383715863",
   "metadata": {},
   "outputs": [
    {
     "data": {
      "text/plain": [
       "6.0"
      ]
     },
     "execution_count": 22,
     "metadata": {},
     "output_type": "execute_result"
    }
   ],
   "source": [
    "c.imag"
   ]
  },
  {
   "cell_type": "code",
   "execution_count": 23,
   "id": "01b88dcd-7282-406b-8ebc-698253418a10",
   "metadata": {},
   "outputs": [],
   "source": [
    "b = True"
   ]
  },
  {
   "cell_type": "code",
   "execution_count": 24,
   "id": "df3872c2-33ca-465b-b2ce-94dba9cab5ef",
   "metadata": {},
   "outputs": [
    {
     "data": {
      "text/plain": [
       "bool"
      ]
     },
     "execution_count": 24,
     "metadata": {},
     "output_type": "execute_result"
    }
   ],
   "source": [
    "type(b)"
   ]
  },
  {
   "cell_type": "code",
   "execution_count": 25,
   "id": "ff58930a-8d02-484d-8ea5-13abb6b97682",
   "metadata": {},
   "outputs": [],
   "source": [
    "b1 = False"
   ]
  },
  {
   "cell_type": "code",
   "execution_count": 26,
   "id": "53425c77-d2de-45a1-b985-8334d2b1906a",
   "metadata": {},
   "outputs": [
    {
     "data": {
      "text/plain": [
       "False"
      ]
     },
     "execution_count": 26,
     "metadata": {},
     "output_type": "execute_result"
    }
   ],
   "source": [
    "b1"
   ]
  },
  {
   "cell_type": "code",
   "execution_count": 27,
   "id": "bd81388c-a7e0-4b8a-8730-90d83fdb3616",
   "metadata": {},
   "outputs": [
    {
     "data": {
      "text/plain": [
       "bool"
      ]
     },
     "execution_count": 27,
     "metadata": {},
     "output_type": "execute_result"
    }
   ],
   "source": [
    "type(b1)"
   ]
  },
  {
   "cell_type": "code",
   "execution_count": 28,
   "id": "4bc85d65-7d83-4b5d-be33-db2641d3f40c",
   "metadata": {},
   "outputs": [],
   "source": [
    "a1 = 45\n",
    "a2 = 34"
   ]
  },
  {
   "cell_type": "code",
   "execution_count": 29,
   "id": "f559b67f-76ce-4049-9ae6-a278a653a736",
   "metadata": {},
   "outputs": [
    {
     "data": {
      "text/plain": [
       "79"
      ]
     },
     "execution_count": 29,
     "metadata": {},
     "output_type": "execute_result"
    }
   ],
   "source": [
    "a1+a2"
   ]
  },
  {
   "cell_type": "code",
   "execution_count": 30,
   "id": "8134cbf5-4a5a-4d4d-bef1-60b80e421275",
   "metadata": {},
   "outputs": [
    {
     "data": {
      "text/plain": [
       "1530"
      ]
     },
     "execution_count": 30,
     "metadata": {},
     "output_type": "execute_result"
    }
   ],
   "source": [
    "a1*a2"
   ]
  },
  {
   "cell_type": "code",
   "execution_count": 31,
   "id": "9578b2b5-a605-4dca-b240-a5c6e74ac833",
   "metadata": {},
   "outputs": [
    {
     "data": {
      "text/plain": [
       "1.3235294117647058"
      ]
     },
     "execution_count": 31,
     "metadata": {},
     "output_type": "execute_result"
    }
   ],
   "source": [
    "a1/a2"
   ]
  },
  {
   "cell_type": "code",
   "execution_count": 32,
   "id": "870a58e5-0297-4a13-9c12-b650e8df6bbc",
   "metadata": {},
   "outputs": [
    {
     "data": {
      "text/plain": [
       "11"
      ]
     },
     "execution_count": 32,
     "metadata": {},
     "output_type": "execute_result"
    }
   ],
   "source": [
    "a1-a2"
   ]
  },
  {
   "cell_type": "code",
   "execution_count": 33,
   "id": "847445e4-882e-42e7-97bf-867fa23af62f",
   "metadata": {},
   "outputs": [
    {
     "data": {
      "text/plain": [
       "1.3235294117647058"
      ]
     },
     "execution_count": 33,
     "metadata": {},
     "output_type": "execute_result"
    }
   ],
   "source": [
    "45/34"
   ]
  },
  {
   "cell_type": "code",
   "execution_count": 36,
   "id": "6f9bf01e-a622-4d27-92f3-f1f75d52fa1e",
   "metadata": {},
   "outputs": [],
   "source": [
    "a1, a2 = 34, 45"
   ]
  },
  {
   "cell_type": "code",
   "execution_count": 37,
   "id": "b261a094-06e0-4f32-9f15-1aff3a1594e5",
   "metadata": {},
   "outputs": [
    {
     "data": {
      "text/plain": [
       "34"
      ]
     },
     "execution_count": 37,
     "metadata": {},
     "output_type": "execute_result"
    }
   ],
   "source": [
    "a1"
   ]
  },
  {
   "cell_type": "code",
   "execution_count": 38,
   "id": "5e159c96-23f3-43ec-8e8e-3c4e25aacdb7",
   "metadata": {},
   "outputs": [
    {
     "data": {
      "text/plain": [
       "45"
      ]
     },
     "execution_count": 38,
     "metadata": {},
     "output_type": "execute_result"
    }
   ],
   "source": [
    "a2"
   ]
  },
  {
   "cell_type": "code",
   "execution_count": 39,
   "id": "846a8850-8fc7-41f1-bf06-f854474c4daf",
   "metadata": {},
   "outputs": [],
   "source": [
    "a, b, c, d = 354, 'tej', 25.50, True"
   ]
  },
  {
   "cell_type": "code",
   "execution_count": 40,
   "id": "a1dbbd03-e077-48fd-a248-c4d2cac40abe",
   "metadata": {},
   "outputs": [
    {
     "data": {
      "text/plain": [
       "354"
      ]
     },
     "execution_count": 40,
     "metadata": {},
     "output_type": "execute_result"
    }
   ],
   "source": [
    "a"
   ]
  },
  {
   "cell_type": "code",
   "execution_count": 41,
   "id": "3f02a378-4e47-46d4-9955-9fd7eaa5df99",
   "metadata": {},
   "outputs": [
    {
     "data": {
      "text/plain": [
       "'tej'"
      ]
     },
     "execution_count": 41,
     "metadata": {},
     "output_type": "execute_result"
    }
   ],
   "source": [
    "b"
   ]
  },
  {
   "cell_type": "code",
   "execution_count": 42,
   "id": "4e15760b-ea35-4c04-b730-aea46f4c23bc",
   "metadata": {},
   "outputs": [
    {
     "data": {
      "text/plain": [
       "25.5"
      ]
     },
     "execution_count": 42,
     "metadata": {},
     "output_type": "execute_result"
    }
   ],
   "source": [
    "c"
   ]
  },
  {
   "cell_type": "code",
   "execution_count": 43,
   "id": "2d813a44-3aef-439d-b7c4-43b9cd846b26",
   "metadata": {},
   "outputs": [
    {
     "data": {
      "text/plain": [
       "True"
      ]
     },
     "execution_count": 43,
     "metadata": {},
     "output_type": "execute_result"
    }
   ],
   "source": [
    "d"
   ]
  },
  {
   "cell_type": "code",
   "execution_count": 44,
   "id": "0bcc79c9-04c1-431e-98f3-b0b6620a009b",
   "metadata": {},
   "outputs": [
    {
     "name": "stderr",
     "output_type": "stream",
     "text": [
      "UsageError: Line magic function `%a=214` not found.\n"
     ]
    }
   ],
   "source": [
    "%a=214"
   ]
  },
  {
   "cell_type": "code",
   "execution_count": 45,
   "id": "f2f05ab9-18b6-41ea-9d36-c0383f84632a",
   "metadata": {},
   "outputs": [
    {
     "ename": "SyntaxError",
     "evalue": "invalid decimal literal (653164581.py, line 1)",
     "output_type": "error",
     "traceback": [
      "\u001b[0;36m  Cell \u001b[0;32mIn[45], line 1\u001b[0;36m\u001b[0m\n\u001b[0;31m    0a=123\u001b[0m\n\u001b[0m    ^\u001b[0m\n\u001b[0;31mSyntaxError\u001b[0m\u001b[0;31m:\u001b[0m invalid decimal literal\n"
     ]
    }
   ],
   "source": [
    "0a=123"
   ]
  },
  {
   "cell_type": "code",
   "execution_count": 46,
   "id": "7456b110-131a-4ef9-a5df-eba68f0f89de",
   "metadata": {},
   "outputs": [
    {
     "ename": "SyntaxError",
     "evalue": "invalid syntax. Maybe you meant '==' or ':=' instead of '='? (657767462.py, line 1)",
     "output_type": "error",
     "traceback": [
      "\u001b[0;36m  Cell \u001b[0;32mIn[46], line 1\u001b[0;36m\u001b[0m\n\u001b[0;31m    @a=123\u001b[0m\n\u001b[0m     ^\u001b[0m\n\u001b[0;31mSyntaxError\u001b[0m\u001b[0;31m:\u001b[0m invalid syntax. Maybe you meant '==' or ':=' instead of '='?\n"
     ]
    }
   ],
   "source": [
    "@a=123"
   ]
  },
  {
   "cell_type": "code",
   "execution_count": 47,
   "id": "9d3698f6-4771-451f-97ee-f261ba49553e",
   "metadata": {},
   "outputs": [],
   "source": [
    "_a=10"
   ]
  },
  {
   "cell_type": "code",
   "execution_count": 48,
   "id": "879fe250-35fa-415b-8c6a-b40e44c0a313",
   "metadata": {},
   "outputs": [
    {
     "ename": "SyntaxError",
     "evalue": "cannot assign to expression here. Maybe you meant '==' instead of '='? (3129658515.py, line 1)",
     "output_type": "error",
     "traceback": [
      "\u001b[0;36m  Cell \u001b[0;32mIn[48], line 1\u001b[0;36m\u001b[0m\n\u001b[0;31m    -a=12\u001b[0m\n\u001b[0m    ^\u001b[0m\n\u001b[0;31mSyntaxError\u001b[0m\u001b[0;31m:\u001b[0m cannot assign to expression here. Maybe you meant '==' instead of '='?\n"
     ]
    }
   ],
   "source": [
    "-a=12"
   ]
  },
  {
   "cell_type": "code",
   "execution_count": 49,
   "id": "3e02d5e4-1b46-4dee-8846-801b44462e34",
   "metadata": {},
   "outputs": [],
   "source": [
    "b1 = True\n",
    "b2 = False"
   ]
  },
  {
   "cell_type": "code",
   "execution_count": 50,
   "id": "06968916-6486-41cc-bd49-4f4362a848fc",
   "metadata": {},
   "outputs": [
    {
     "data": {
      "text/plain": [
       "1"
      ]
     },
     "execution_count": 50,
     "metadata": {},
     "output_type": "execute_result"
    }
   ],
   "source": [
    "b1 + b2"
   ]
  },
  {
   "cell_type": "code",
   "execution_count": 51,
   "id": "18da917c-037c-4254-b377-e36f0277fd07",
   "metadata": {},
   "outputs": [
    {
     "data": {
      "text/plain": [
       "1"
      ]
     },
     "execution_count": 51,
     "metadata": {},
     "output_type": "execute_result"
    }
   ],
   "source": [
    "b1 - b2"
   ]
  },
  {
   "cell_type": "code",
   "execution_count": 52,
   "id": "a5fc9646-3077-4f82-95c9-3bc7d42c73d6",
   "metadata": {},
   "outputs": [
    {
     "data": {
      "text/plain": [
       "0"
      ]
     },
     "execution_count": 52,
     "metadata": {},
     "output_type": "execute_result"
    }
   ],
   "source": [
    "b1*b2"
   ]
  },
  {
   "cell_type": "code",
   "execution_count": 53,
   "id": "93f7a6be-a08b-487b-8efd-b21d8ced8803",
   "metadata": {},
   "outputs": [
    {
     "ename": "ZeroDivisionError",
     "evalue": "division by zero",
     "output_type": "error",
     "traceback": [
      "\u001b[0;31m---------------------------------------------------------------------------\u001b[0m",
      "\u001b[0;31mZeroDivisionError\u001b[0m                         Traceback (most recent call last)",
      "Cell \u001b[0;32mIn[53], line 1\u001b[0m\n\u001b[0;32m----> 1\u001b[0m \u001b[43mb1\u001b[49m\u001b[38;5;241;43m/\u001b[39;49m\u001b[43mb2\u001b[49m\n",
      "\u001b[0;31mZeroDivisionError\u001b[0m: division by zero"
     ]
    }
   ],
   "source": [
    "b1/b2"
   ]
  },
  {
   "cell_type": "code",
   "execution_count": 54,
   "id": "181372d9-7c9e-4025-8cf6-564c3eb58087",
   "metadata": {},
   "outputs": [],
   "source": [
    "s1 = 'my name is tej'"
   ]
  },
  {
   "cell_type": "code",
   "execution_count": 55,
   "id": "cdc9a9a6-5cbb-4770-88b4-e09b28c26d86",
   "metadata": {},
   "outputs": [
    {
     "data": {
      "text/plain": [
       "'my name is tej'"
      ]
     },
     "execution_count": 55,
     "metadata": {},
     "output_type": "execute_result"
    }
   ],
   "source": [
    "s1"
   ]
  },
  {
   "cell_type": "code",
   "execution_count": 56,
   "id": "6ba47817-86dc-422c-b45c-58cb54089932",
   "metadata": {},
   "outputs": [
    {
     "data": {
      "text/plain": [
       "str"
      ]
     },
     "execution_count": 56,
     "metadata": {},
     "output_type": "execute_result"
    }
   ],
   "source": [
    "type(s1)"
   ]
  },
  {
   "cell_type": "code",
   "execution_count": 57,
   "id": "2ee85214-72f5-40d4-81fe-29af58761e6f",
   "metadata": {},
   "outputs": [],
   "source": [
    "s2 = \"this is my first python class for data science master's\""
   ]
  },
  {
   "cell_type": "code",
   "execution_count": 58,
   "id": "41769169-0ae7-49b9-8aa1-f7db57d3ae6d",
   "metadata": {},
   "outputs": [
    {
     "data": {
      "text/plain": [
       "\"this is my first python class for data science master's\""
      ]
     },
     "execution_count": 58,
     "metadata": {},
     "output_type": "execute_result"
    }
   ],
   "source": [
    "s2"
   ]
  },
  {
   "cell_type": "code",
   "execution_count": 59,
   "id": "854a6cf3-73e5-4cad-9e20-d86259a3d521",
   "metadata": {},
   "outputs": [],
   "source": [
    "#this is my code to create 0 string variable with quotes"
   ]
  },
  {
   "cell_type": "code",
   "execution_count": 60,
   "id": "09099389-dfc0-4da4-9b42-c08465438b26",
   "metadata": {},
   "outputs": [
    {
     "data": {
      "text/plain": [
       "'this is my first python class\\ni am trying to learn variable declaration\\nso far i have learn int, boolean, string, complex number, float variable declarations'"
      ]
     },
     "execution_count": 60,
     "metadata": {},
     "output_type": "execute_result"
    }
   ],
   "source": [
    "'''this is my first python class\n",
    "i am trying to learn variable declaration\n",
    "so far i have learn int, boolean, string, complex number, float variable declarations'''"
   ]
  },
  {
   "cell_type": "code",
   "execution_count": null,
   "id": "5ecef7e7-0a1b-41e7-b824-21619d9334a2",
   "metadata": {},
   "outputs": [],
   "source": [
    "s1 = 'tej'\n",
    "a = 10"
   ]
  },
  {
   "cell_type": "code",
   "execution_count": 61,
   "id": "7bbc2b8b-e8d2-4096-a56b-909d6500c37a",
   "metadata": {},
   "outputs": [
    {
     "ename": "TypeError",
     "evalue": "can only concatenate str (not \"int\") to str",
     "output_type": "error",
     "traceback": [
      "\u001b[0;31m---------------------------------------------------------------------------\u001b[0m",
      "\u001b[0;31mTypeError\u001b[0m                                 Traceback (most recent call last)",
      "Cell \u001b[0;32mIn[61], line 1\u001b[0m\n\u001b[0;32m----> 1\u001b[0m \u001b[43ms1\u001b[49m\u001b[43m \u001b[49m\u001b[38;5;241;43m+\u001b[39;49m\u001b[43m \u001b[49m\u001b[43ma\u001b[49m\n",
      "\u001b[0;31mTypeError\u001b[0m: can only concatenate str (not \"int\") to str"
     ]
    }
   ],
   "source": [
    "s1 + a"
   ]
  },
  {
   "cell_type": "code",
   "execution_count": 66,
   "id": "90778e2b-d402-4fc4-bf98-5617bfca8c2b",
   "metadata": {},
   "outputs": [
    {
     "data": {
      "text/plain": [
       "'tejsingh ahuja'"
      ]
     },
     "execution_count": 66,
     "metadata": {},
     "output_type": "execute_result"
    }
   ],
   "source": [
    "'tejsingh' + ' ahuja'"
   ]
  },
  {
   "cell_type": "code",
   "execution_count": 63,
   "id": "f9e06601-ae3d-4cee-b9ee-87f90f2564b9",
   "metadata": {},
   "outputs": [
    {
     "data": {
      "text/plain": [
       "354"
      ]
     },
     "execution_count": 63,
     "metadata": {},
     "output_type": "execute_result"
    }
   ],
   "source": [
    "a"
   ]
  },
  {
   "cell_type": "code",
   "execution_count": 64,
   "id": "acd3079d-7493-42c1-8d38-a5ca87eb10f2",
   "metadata": {},
   "outputs": [
    {
     "data": {
      "text/plain": [
       "int"
      ]
     },
     "execution_count": 64,
     "metadata": {},
     "output_type": "execute_result"
    }
   ],
   "source": [
    "type(a)"
   ]
  },
  {
   "cell_type": "code",
   "execution_count": 65,
   "id": "7f62d779-5206-4e11-aaf4-61b309b9a61e",
   "metadata": {},
   "outputs": [
    {
     "data": {
      "text/plain": [
       "'354'"
      ]
     },
     "execution_count": 65,
     "metadata": {},
     "output_type": "execute_result"
    }
   ],
   "source": [
    "str(a)"
   ]
  },
  {
   "cell_type": "code",
   "execution_count": 69,
   "id": "61de5ebd-98e6-4825-9d23-cf8c86dea424",
   "metadata": {},
   "outputs": [
    {
     "data": {
      "text/plain": [
       "'my name is tej 354'"
      ]
     },
     "execution_count": 69,
     "metadata": {},
     "output_type": "execute_result"
    }
   ],
   "source": [
    "s1 + \" \" + str(a)"
   ]
  },
  {
   "cell_type": "code",
   "execution_count": 70,
   "id": "7d1cabd6-3d82-4763-a20d-433d0c70aedc",
   "metadata": {},
   "outputs": [],
   "source": [
    "a = 453253"
   ]
  },
  {
   "cell_type": "code",
   "execution_count": 75,
   "id": "bd12cddf-df52-4594-af6d-538186028f87",
   "metadata": {},
   "outputs": [
    {
     "name": "stdin",
     "output_type": "stream",
     "text": [
      " 12\n"
     ]
    }
   ],
   "source": [
    "b = int(input())"
   ]
  },
  {
   "cell_type": "code",
   "execution_count": 76,
   "id": "9c731a78-f49e-486f-9f22-2b226b8d909b",
   "metadata": {},
   "outputs": [
    {
     "data": {
      "text/plain": [
       "12"
      ]
     },
     "execution_count": 76,
     "metadata": {},
     "output_type": "execute_result"
    }
   ],
   "source": [
    "b"
   ]
  },
  {
   "cell_type": "code",
   "execution_count": 77,
   "id": "c65ada54-905d-4817-b5ae-c2c6e7c5f4f5",
   "metadata": {},
   "outputs": [
    {
     "data": {
      "text/plain": [
       "int"
      ]
     },
     "execution_count": 77,
     "metadata": {},
     "output_type": "execute_result"
    }
   ],
   "source": [
    "type(b)"
   ]
  },
  {
   "cell_type": "code",
   "execution_count": 82,
   "id": "97d8e57e-662b-4ef6-bb30-60277e82fac5",
   "metadata": {},
   "outputs": [
    {
     "name": "stdin",
     "output_type": "stream",
     "text": [
      " True\n"
     ]
    }
   ],
   "source": [
    "d = bool(input())"
   ]
  },
  {
   "cell_type": "code",
   "execution_count": 83,
   "id": "89a6f1c7-f3ea-4145-8662-cd5ccc320bf4",
   "metadata": {},
   "outputs": [
    {
     "data": {
      "text/plain": [
       "True"
      ]
     },
     "execution_count": 83,
     "metadata": {},
     "output_type": "execute_result"
    }
   ],
   "source": [
    "d"
   ]
  },
  {
   "cell_type": "code",
   "execution_count": 84,
   "id": "367c2dfb-05c9-4421-a252-8b6e8cf01b63",
   "metadata": {},
   "outputs": [],
   "source": [
    "s = 'tej'"
   ]
  },
  {
   "cell_type": "code",
   "execution_count": 85,
   "id": "04ee9f34-cc36-4206-bd02-bfc4ed81c532",
   "metadata": {},
   "outputs": [
    {
     "data": {
      "text/plain": [
       "'e'"
      ]
     },
     "execution_count": 85,
     "metadata": {},
     "output_type": "execute_result"
    }
   ],
   "source": [
    "s[1]"
   ]
  },
  {
   "cell_type": "code",
   "execution_count": 86,
   "id": "1dbff727-e899-4e75-b51c-92533e2788f2",
   "metadata": {},
   "outputs": [
    {
     "ename": "IndexError",
     "evalue": "string index out of range",
     "output_type": "error",
     "traceback": [
      "\u001b[0;31m---------------------------------------------------------------------------\u001b[0m",
      "\u001b[0;31mIndexError\u001b[0m                                Traceback (most recent call last)",
      "Cell \u001b[0;32mIn[86], line 1\u001b[0m\n\u001b[0;32m----> 1\u001b[0m \u001b[43ms\u001b[49m\u001b[43m[\u001b[49m\u001b[38;5;241;43m100\u001b[39;49m\u001b[43m]\u001b[49m\n",
      "\u001b[0;31mIndexError\u001b[0m: string index out of range"
     ]
    }
   ],
   "source": [
    "s[100]"
   ]
  },
  {
   "cell_type": "code",
   "execution_count": 87,
   "id": "4ddaba44-21b8-441b-8d10-10a4fc817fa3",
   "metadata": {},
   "outputs": [
    {
     "data": {
      "text/plain": [
       "'my name is tej'"
      ]
     },
     "execution_count": 87,
     "metadata": {},
     "output_type": "execute_result"
    }
   ],
   "source": [
    "s1"
   ]
  },
  {
   "cell_type": "code",
   "execution_count": 88,
   "id": "6a40eb8d-56eb-4213-9f11-d370e477c278",
   "metadata": {},
   "outputs": [],
   "source": [
    "s3 = 'pwskills'"
   ]
  },
  {
   "cell_type": "code",
   "execution_count": 89,
   "id": "e7ee23b4-7bf5-4853-b6da-f4cbbd3e4e9c",
   "metadata": {},
   "outputs": [
    {
     "data": {
      "text/plain": [
       "'pwskills'"
      ]
     },
     "execution_count": 89,
     "metadata": {},
     "output_type": "execute_result"
    }
   ],
   "source": [
    "s3"
   ]
  },
  {
   "cell_type": "code",
   "execution_count": 92,
   "id": "9378467a-145b-4621-906f-edee8db3bf11",
   "metadata": {},
   "outputs": [
    {
     "ename": "TypeError",
     "evalue": "'str' object does not support item assignment",
     "output_type": "error",
     "traceback": [
      "\u001b[0;31m---------------------------------------------------------------------------\u001b[0m",
      "\u001b[0;31mTypeError\u001b[0m                                 Traceback (most recent call last)",
      "Cell \u001b[0;32mIn[92], line 1\u001b[0m\n\u001b[0;32m----> 1\u001b[0m \u001b[43ms3\u001b[49m\u001b[43m[\u001b[49m\u001b[38;5;241;43m0\u001b[39;49m\u001b[43m]\u001b[49m \u001b[38;5;241m=\u001b[39m \u001b[38;5;124m'\u001b[39m\u001b[38;5;124ms\u001b[39m\u001b[38;5;124m'\u001b[39m\n",
      "\u001b[0;31mTypeError\u001b[0m: 'str' object does not support item assignment"
     ]
    }
   ],
   "source": [
    "s3[0] = 's'"
   ]
  },
  {
   "cell_type": "code",
   "execution_count": null,
   "id": "196e9d13-1f99-491d-a1cc-49e9138b67ce",
   "metadata": {},
   "outputs": [],
   "source": []
  }
 ],
 "metadata": {
  "kernelspec": {
   "display_name": "Python 3 (ipykernel)",
   "language": "python",
   "name": "python3"
  },
  "language_info": {
   "codemirror_mode": {
    "name": "ipython",
    "version": 3
   },
   "file_extension": ".py",
   "mimetype": "text/x-python",
   "name": "python",
   "nbconvert_exporter": "python",
   "pygments_lexer": "ipython3",
   "version": "3.10.8"
  }
 },
 "nbformat": 4,
 "nbformat_minor": 5
}
